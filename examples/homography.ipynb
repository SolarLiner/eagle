{
 "cells": [
  {
   "cell_type": "code",
   "execution_count": 1,
   "metadata": {},
   "outputs": [],
   "source": [
    "import sys\n",
    "sys.path.append('..')\n",
    "\n",
    "import eagle.utils"
   ]
  },
  {
   "cell_type": "code",
   "execution_count": 2,
   "metadata": {},
   "outputs": [
    {
     "data": {
      "text/plain": [
       "array([[-2.72301007e-01, -1.90250564e-03,  2.28520491e+01],\n",
       "       [-2.13325463e-02, -5.29729245e-02,  3.90491726e+00],\n",
       "       [-1.23876999e-03, -7.60194463e-06, -2.60520274e-01]])"
      ]
     },
     "execution_count": 2,
     "metadata": {},
     "output_type": "execute_result"
    }
   ],
   "source": [
    "import numpy\n",
    "ij = numpy.array(\n",
    "    [\n",
    "        [8.3439058171745160e+01, 3.9043662271609115e+01],\n",
    "        [8.3586419753086403e+01, 7.1055261312278859e+01],\n",
    "        [8.2210252727334861e+01, 2.5787845966349073e+02],\n",
    "        [8.1801443179097788e+01, 2.8886518678703118e+02],\n",
    "        [1.0984965715570684e+02, 6.3208884909560226e+01],\n",
    "        [1.0920333912015022e+02, 1.6481596306083208e+02],\n",
    "        [1.0826182446074708e+02, 2.6580010064461953e+02],\n",
    "        [1.9382238979515063e+02, 3.8608419735621922e+01],\n",
    "        [1.9277659792756745e+02, 1.6584636008778438e+02],\n",
    "        [1.9215537754306766e+02, 2.9327602811115213e+02],\n",
    "        [2.4589094080229816e+02, 2.3327981417837645e+01],\n",
    "        [2.4363060428849903e+02, 3.1131599564699832e+02]\n",
    "    ]\n",
    ")\n",
    "\n",
    "\n",
    "XY = numpy.array(\n",
    "    [\n",
    "        [0.0000000000000000e+00, 0.0000000000000000e+00],\n",
    "        [0.0000000000000000e+00, 4.5000000000000000e+00],\n",
    "        [0.0000000000000000e+00, 3.1500000000000000e+01],\n",
    "        [0.0000000000000000e+00, 3.6000000000000000e+01],\n",
    "        [1.8000000000000000e+01, 4.5000000000000000e+00],\n",
    "        [1.8000000000000000e+01, 1.8000000000000000e+01],\n",
    "        [1.8000000000000000e+01, 3.1500000000000000e+01],\n",
    "        [6.0000000000000000e+01, 4.5000000000000000e+00],\n",
    "        [6.0000000000000000e+01, 1.8000000000000000e+01],\n",
    "        [6.0000000000000000e+01, 3.1500000000000000e+01],\n",
    "        [7.8000000000000000e+01, 4.5000000000000000e+00],\n",
    "        [7.8000000000000000e+01, 3.1500000000000000e+01]\n",
    "    ]\n",
    ")\n",
    "eagle.utils.homography_estimation(ij, XY, normalization=True)"
   ]
  },
  {
   "cell_type": "code",
   "execution_count": 7,
   "metadata": {},
   "outputs": [
    {
     "data": {
      "text/plain": [
       "array([[ 0,  7, 10],\n",
       "       [ 1,  1,  1]])"
      ]
     },
     "execution_count": 7,
     "metadata": {},
     "output_type": "execute_result"
    }
   ],
   "source": [
    "numpy.array(numpy.where(ij < 40))"
   ]
  },
  {
   "cell_type": "code",
   "execution_count": null,
   "metadata": {},
   "outputs": [],
   "source": []
  }
 ],
 "metadata": {
  "interpreter": {
   "hash": "d8af255b71a47211f3bbb11e1d8c056494be1673d7ecf3fd6691ea74e9e18340"
  },
  "kernelspec": {
   "display_name": "Python 3.10.4 64-bit",
   "language": "python",
   "name": "python3"
  },
  "language_info": {
   "codemirror_mode": {
    "name": "ipython",
    "version": 3
   },
   "file_extension": ".py",
   "mimetype": "text/x-python",
   "name": "python",
   "nbconvert_exporter": "python",
   "pygments_lexer": "ipython3",
   "version": "3.10.4"
  },
  "orig_nbformat": 4
 },
 "nbformat": 4,
 "nbformat_minor": 2
}
