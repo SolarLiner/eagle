{
 "cells": [
  {
   "cell_type": "markdown",
   "metadata": {},
   "source": [
    "# Corresponding"
   ]
  },
  {
   "cell_type": "code",
   "execution_count": null,
   "metadata": {},
   "outputs": [],
   "source": [
    "import sys\n",
    "sys.path.append('..')"
   ]
  },
  {
   "cell_type": "code",
   "execution_count": null,
   "metadata": {},
   "outputs": [],
   "source": [
    "import numpy\n",
    "import scipy.signal\n",
    "import matplotlib.pyplot\n",
    "import matplotlib.cm\n",
    "import pathlib\n",
    "import PIL.Image"
   ]
  },
  {
   "cell_type": "code",
   "execution_count": null,
   "metadata": {},
   "outputs": [],
   "source": [
    "matplotlib.pyplot.rcParams.update({'font.size': 22})"
   ]
  },
  {
   "cell_type": "code",
   "execution_count": null,
   "metadata": {},
   "outputs": [],
   "source": [
    "# Open image and convert to grayscale\n",
    "path: pathlib.Path = pathlib.Path('./images/tsukuba/scene1.row3.col1.ppm')\n",
    "img = numpy.array(PIL.Image.open(str(path)).convert('L'))\n",
    "\n",
    "figure = matplotlib.pyplot.figure(figsize=(10, 10))\n",
    "\n",
    "matplotlib.pyplot.axis('off')\n",
    "# matplotlib.pyplot.title('Image I')\n",
    "_ = matplotlib.pyplot.imshow(img, cmap=matplotlib.cm.gray)"
   ]
  },
  {
   "cell_type": "markdown",
   "metadata": {},
   "source": [
    "## Write function to detect interst points"
   ]
  },
  {
   "cell_type": "code",
   "execution_count": null,
   "metadata": {},
   "outputs": [],
   "source": [
    "# import eagle.points.response\n",
    "\n",
    "# def find_interest_points(\n",
    "#     img: numpy.ndarray, \n",
    "#     size_neigh: int, \n",
    "#     epsilon: float\n",
    "# ) -> numpy.ndarray:\n",
    "#     r = eagle.points.response.kitchen_rosenfeld(img)\n",
    "#     rp = eagle.points.response.remove_non_maxima(r, size_neigh)\n",
    "#     points = eagle.points.response.select_with_threshold(rp, epsilon)\n",
    "#     return points"
   ]
  },
  {
   "cell_type": "markdown",
   "metadata": {},
   "source": [
    "## Find interset points and compute differentials invariants"
   ]
  },
  {
   "cell_type": "code",
   "execution_count": null,
   "metadata": {},
   "outputs": [],
   "source": [
    "from eagle.points.response import \\\n",
    "    (\n",
    "        kitchen_rosenfeld,\n",
    "        remove_non_maxima,\n",
    "        select_with_threshold\n",
    "    )\n",
    "\n",
    "from eagle.points.descriptor.differential import DifferentialInvariant\n",
    "\n",
    "class ImageFeatures:\n",
    "\n",
    "    def __init__(self, img: numpy.ndarray):\n",
    "\n",
    "        self.img = img\n",
    "\n",
    "        # Find interest points\n",
    "        r = kitchen_rosenfeld(self.img)\n",
    "        rp = remove_non_maxima(r, size_neigh=3)\n",
    "        self.interest_points = select_with_threshold(rp, epsilon=0.3)\n",
    "\n",
    "        # self.nb_points = self.interest_points.shape[1]\n",
    "        \n",
    "        # Compute differential invaraint vector\n",
    "        self.differential_invariant = DifferentialInvariant(self.img)"
   ]
  },
  {
   "cell_type": "code",
   "execution_count": null,
   "metadata": {},
   "outputs": [],
   "source": [
    "imgs: list[numpy.ndarray] = []\n",
    "\n",
    "img_features: list[ImageFeatures] = []\n",
    "\n",
    "for img in imgs:\n",
    "    img_features.append(ImageFeatures(img))"
   ]
  },
  {
   "cell_type": "markdown",
   "metadata": {},
   "source": [
    "## Find corresponding"
   ]
  },
  {
   "cell_type": "markdown",
   "metadata": {},
   "source": [
    "### Compute scores between differential invaraints"
   ]
  },
  {
   "cell_type": "code",
   "execution_count": null,
   "metadata": {},
   "outputs": [],
   "source": [
    "def symmetric_indices(indices: tuple[int, int]) -> tuple[int, int]:\n",
    "    i, j = indices\n",
    "    return i, j if j >= i else j, i"
   ]
  },
  {
   "cell_type": "code",
   "execution_count": null,
   "metadata": {},
   "outputs": [],
   "source": [
    "import eagle.points.descriptor.distance\n",
    "\n",
    "def compute_score(feature_1: ImageFeatures, feature_2: ImageFeatures) -> numpy.ndarray:\n",
    "\n",
    "    \"\"\" For each interest point from first feature, we compare interest point \\n\n",
    "    from second feature with the distance between differential invariant vector\n",
    "    \"\"\"\n",
    "    \n",
    "    nb_pts_1 = feature_1.interest_points.shape[0]\n",
    "    nb_pts_2 = feature_2.interest_points.shape[0]\n",
    "\n",
    "    score = numpy.zeros(shape=(nb_pts_1, nb_pts_2))\n",
    "\n",
    "   \n",
    "\n",
    "    for i in range(0, nb_pts_1):\n",
    "\n",
    "        pt_i = tuple(feature_1.interest_points[i])\n",
    "        vec_i = feature_1.differential_invariant[pt_i]\n",
    "        \n",
    "        for j in range(0, nb_pts_2):\n",
    "\n",
    "            pt_j = tuple(feature_1.interest_points[j])\n",
    "            vec_j = feature_1.differential_invariant[pt_j]\n",
    "            distance = eagle.points.descriptor.distance.euclidean(vec_i, vec_j)\n",
    "\n",
    "            score[i, j] = distance\n",
    "\n",
    "    return score"
   ]
  },
  {
   "cell_type": "code",
   "execution_count": null,
   "metadata": {},
   "outputs": [],
   "source": [
    "nb_imgs = len(imgs)\n",
    "\n",
    "# Sym Matrix : idx_i, idx_j = i, j if j <= i else j, i\n",
    "scores = numpy.zeros(shape=(nb_imgs, nb_imgs), dtype=numpy.ndarray)\n",
    "\n",
    "for i in range(0, nb_imgs):\n",
    "    features_i = img_features[i]\n",
    "    for j in range(i+1, nb_imgs):\n",
    "        features_j = img_features[i]\n",
    "        scores[symmetric_indices((i, j))] = compute_score(features_i, features_j)        "
   ]
  },
  {
   "cell_type": "markdown",
   "metadata": {},
   "source": [
    "### Find best corresponding"
   ]
  },
  {
   "cell_type": "code",
   "execution_count": null,
   "metadata": {},
   "outputs": [],
   "source": [
    "nb_imgs = len(imgs)\n",
    "\n",
    "EPSILON_DISTANCE = 0.001\n",
    "\n",
    "\n",
    "# Find j such as we have a maximum of corresponding\n",
    "# for i\n",
    "corresp = list[tuple[int, numpy.ndarray]] = []\n",
    "\n",
    "# corresp[i] index interest pts between i and j\n",
    "corresp_img = numpy.empty(shape=nb_imgs, dtype=int)\n",
    "\n",
    "corresp_pts = numpy.empty(shape=nb_imgs, dtype=numpy.ndarray)\n",
    "\n",
    "for i in range(0, nb_imgs):\n",
    "\n",
    "    best_pts: numpy.ndarray = corresp_pts\n",
    "    \n",
    "    for j in range(i+1, nb_imgs):\n",
    "        \n",
    "        score_ij: numpy.ndarray = scores[symmetric_indices(i, j)]\n",
    "        tmp = numpy.transpose(numpy.array(numpy.where(score_ij <= EPSILON_DISTANCE)))\n",
    "\n",
    "        if (best_pts is None) or (best_pts.shape[0] < tmp.shape[0]):\n",
    "            corresp_img[i] = j\n",
    "            corresp_pts[i] = best_pts"
   ]
  },
  {
   "cell_type": "markdown",
   "metadata": {},
   "source": [
    "## Compute homography"
   ]
  },
  {
   "cell_type": "code",
   "execution_count": null,
   "metadata": {},
   "outputs": [],
   "source": [
    "import numpy.linalg\n",
    "\n",
    "def hartley_normaliation(points: numpy.ndarray) -> numpy.ndarray:\n",
    "\n",
    "    n = points.shape[0]\n",
    "    mean = numpy.mean(points, axis=0)\n",
    "    center_points = points-mean\n",
    "\n",
    "    norms = numpy.sqrt(numpy.sum(center_points**2, axis=1))\n",
    "    a = numpy.sqrt(2) / numpy.mean(norms)\n",
    "    # a = numpy.sqrt(2) / ((1 / n) * numpy.sum(norms))\n",
    "\n",
    "    u, v = points[:, 0], points[:, 1]\n",
    "    u_mean, v_mean = mean[:, 0], mean[:, 1]\n",
    "\n",
    "    for i in range(0, n):\n",
    "        u_hartley = a*u - a*u_mean\n",
    "        v_hartley = a*v - a*v_mean\n",
    "\n",
    "    points = numpy.array([u_hartley, v_hartley])\n",
    "\n",
    "    return points\n",
    "\n",
    "\n",
    "def homography_estimation(points_1: numpy.ndarray, points_2: numpy.ndarray, normalisation: bool = False) -> numpy.ndarray:\n",
    "\n",
    "    \n",
    "    pts1, pts2 = \\\n",
    "        hartley_normaliation(numpy.copy(points_1)), hartley_normaliation(numpy.copy(points_2)) \\\n",
    "            if normalisation else points_1, points_2\n",
    "\n",
    "\n",
    "    nb_points = pts1.shape[0]\n",
    "\n",
    "    u, v, up, vp = pts1[:, 0], pts1[:, 1], pts2[:, 0], pts2[:, 1]\n",
    "\n",
    "    D = numpy.zeros(shape=(2*nb_points, 9))\n",
    "\n",
    "    for i in range(0, nb_points, 2):\n",
    "        \n",
    "        u, v = pts1[i]\n",
    "        up, vp = pts2[i]\n",
    "\n",
    "        D[i:i+1, :] = numpy.array(\n",
    "            [\n",
    "                [ u[i], v[i], 1, 0, 0, 0, -up[i]*u[i], -up[i]*v[i], -up[i] ],\n",
    "                [ 0, 0, 0, u[i], v[i], 1, -vp[i]*u[i], -vp[i]*v[i], -vp[i] ]\n",
    "            ]\n",
    "        )\n",
    "\n",
    "    eigen_values, eigen_vectors = numpy.linalg.eig(D.T @ D)\n",
    "    indmin = numpy.argmin(eigen_values)\n",
    "    v = eigen_vectors[:, indmin]\n",
    "\n",
    "    h = numpy.reshape(v, newshape=(3, 3))\n",
    "\n",
    "    return h"
   ]
  },
  {
   "cell_type": "code",
   "execution_count": null,
   "metadata": {},
   "outputs": [],
   "source": []
  }
 ],
 "metadata": {
  "interpreter": {
   "hash": "d8af255b71a47211f3bbb11e1d8c056494be1673d7ecf3fd6691ea74e9e18340"
  },
  "kernelspec": {
   "display_name": "Python 3.10.4 64-bit",
   "language": "python",
   "name": "python3"
  },
  "language_info": {
   "codemirror_mode": {
    "name": "ipython",
    "version": 3
   },
   "file_extension": ".py",
   "mimetype": "text/x-python",
   "name": "python",
   "nbconvert_exporter": "python",
   "pygments_lexer": "ipython3",
   "version": "3.10.4"
  },
  "orig_nbformat": 4
 },
 "nbformat": 4,
 "nbformat_minor": 2
}
